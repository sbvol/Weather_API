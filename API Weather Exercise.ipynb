{
 "cells": [
  {
   "cell_type": "markdown",
   "metadata": {},
   "source": [
    "# Dependents\n",
    "***"
   ]
  },
  {
   "cell_type": "code",
   "execution_count": 1,
   "metadata": {
    "collapsed": true
   },
   "outputs": [],
   "source": [
    "import requests as req\n",
    "import json\n",
    "import time\n",
    "import numpy as np\n",
    "import pandas as pd\n",
    "import matplotlib.pyplot as plt\n",
    "from scipy import stats\n",
    "from requests.exceptions import HTTPError"
   ]
  },
  {
   "cell_type": "markdown",
   "metadata": {},
   "source": [
    "# Loading the data from CSV file\n",
    "***"
   ]
  },
  {
   "cell_type": "code",
   "execution_count": 2,
   "metadata": {},
   "outputs": [
    {
     "name": "stderr",
     "output_type": "stream",
     "text": [
      "/Users/jeffmoore/anaconda3/lib/python3.6/site-packages/IPython/core/interactiveshell.py:2698: DtypeWarning: Columns (3) have mixed types. Specify dtype option on import or set low_memory=False.\n",
      "  interactivity=interactivity, compiler=compiler, result=result)\n"
     ]
    }
   ],
   "source": [
    "city_data = 'citycountry_latlon.csv'\n",
    "city_data_df = pd.read_csv(city_data, encoding = 'ISO-8859-1')"
   ]
  },
  {
   "cell_type": "code",
   "execution_count": 3,
   "metadata": {
    "collapsed": true
   },
   "outputs": [],
   "source": [
    "# Creating a dataframe to store or process the data\n",
    "# The issue is that citipy or the raw data contain far more records than the openweather database\n",
    "# (3100000 vs 200000 cities) so some work is needed to find a suitable list of cities.\n",
    "# I elected to divide the dataset into 4 groups.  This will ensure full coverage across the dataset.\n",
    "city_data_df = city_data_df[['Country', 'City', 'Latitude']]\n",
    "city_data_upper45_df = city_data_df[city_data_df['Latitude'] > 45]\n",
    "city_data_ubt045_df = city_data_df[city_data_df['Latitude'] <= 45]\n",
    "city_data_ubt045_df = city_data_ubt045_df[city_data_ubt045_df['Latitude'] > 0]\n",
    "city_data_lbt045_df = city_data_df[city_data_df['Latitude'] < 0]\n",
    "city_data_lbt045_df = city_data_lbt045_df[city_data_lbt045_df['Latitude'] >= -45]\n",
    "city_data_lower45_df = city_data_df[city_data_df['Latitude'] < -45]"
   ]
  },
  {
   "cell_type": "code",
   "execution_count": 4,
   "metadata": {
    "collapsed": true
   },
   "outputs": [],
   "source": [
    "# Building a dataframe to store the results of the URL requests\n",
    "city_data_df[\"temp_min\"] = \"\"\n",
    "city_data_df[\"temp_max\"] = \"\"\n",
    "city_data_df['humid'] = ''\n",
    "city_data_df['wind_speed'] = ''\n",
    "city_data_df['cloud'] = ''\n",
    "city_data_df['found_city'] = ''\n",
    "city_data_df['url'] = ''\n",
    "city_does_not_exist = []"
   ]
  },
  {
   "cell_type": "code",
   "execution_count": 5,
   "metadata": {},
   "outputs": [
    {
     "data": {
      "text/plain": [
       "0"
      ]
     },
     "execution_count": 5,
     "metadata": {},
     "output_type": "execute_result"
    }
   ],
   "source": [
    "len(city_data_df[city_data_df['found_city'] != ''])"
   ]
  },
  {
   "cell_type": "markdown",
   "metadata": {},
   "source": [
    "# Making the URL request and storing the response\n",
    "***"
   ]
  },
  {
   "cell_type": "code",
   "execution_count": 6,
   "metadata": {
    "collapsed": true
   },
   "outputs": [],
   "source": [
    "# using the URL from openweather to look at current weather information\n",
    "# I considered looking at historical info but there were limitations on data availability\n",
    "url = 'http://api.openweathermap.org/data/2.5/weather?q='\n",
    "api_key = '2e0b3995de13957a2e62c46a5a3da34b'\n",
    "mode = '&mode=json'\n",
    "units = 'imperial'"
   ]
  },
  {
   "cell_type": "code",
   "execution_count": 7,
   "metadata": {
    "collapsed": true
   },
   "outputs": [],
   "source": [
    "# Greater than 45 degrees latitude\n",
    "while len(city_data_df[city_data_df['found_city'] != '']) < 100:\n",
    "    test_cities_data_df = city_data_upper45_df.sample(125)\n",
    "    time.sleep(15)\n",
    "    for index, row in test_cities_data_df.iterrows():\n",
    "        target_url = url + row['City'] + ',' + row['Country'] + '&APPID=' + api_key + '&units=' + units\n",
    "        try:\n",
    "            r = req.get(target_url)\n",
    "            r.raise_for_status()\n",
    "        except HTTPError:\n",
    "            city_does_not_exist.append(r.url)\n",
    "        else:\n",
    "            hold_data = req.get(target_url).json()\n",
    "            city_data_df.set_value(index, \"found_city\", row['City'])\n",
    "            city_data_df.set_value(index, \"temp_min\", hold_data[\"main\"][\"temp_min\"])\n",
    "            city_data_df.set_value(index, \"temp_max\", hold_data[\"main\"][\"temp_max\"])\n",
    "            city_data_df.set_value(index, \"humid\", hold_data[\"main\"][\"humidity\"])\n",
    "            city_data_df.set_value(index, \"wind_speed\", hold_data[\"wind\"][\"speed\"])\n",
    "            city_data_df.set_value(index, \"cloud\", hold_data[\"clouds\"][\"all\"])\n",
    "            city_data_df.set_value(index, \"url\", target_url)"
   ]
  },
  {
   "cell_type": "code",
   "execution_count": 8,
   "metadata": {},
   "outputs": [
    {
     "data": {
      "text/plain": [
       "146"
      ]
     },
     "execution_count": 8,
     "metadata": {},
     "output_type": "execute_result"
    }
   ],
   "source": [
    "len(city_data_df[city_data_df['found_city'] != ''])"
   ]
  },
  {
   "cell_type": "code",
   "execution_count": 9,
   "metadata": {},
   "outputs": [],
   "source": [
    "# Between 0 and 45 degrees latitude\n",
    "while len(city_data_df[city_data_df['found_city'] != '']) < 250:\n",
    "    test_cities_data_df = city_data_ubt045_df.sample(125)\n",
    "    time.sleep(15)\n",
    "    for index, row in test_cities_data_df.iterrows():\n",
    "        target_url = url + row['City'] + ',' + row['Country'] + '&APPID=' + api_key + '&units=' + units\n",
    "        try:\n",
    "            r = req.get(target_url)\n",
    "            r.raise_for_status()\n",
    "        except HTTPError:\n",
    "            city_does_not_exist.append(r.url)\n",
    "        else:\n",
    "            hold_data = req.get(target_url).json()\n",
    "            city_data_df.set_value(index, \"found_city\", row['City'])\n",
    "            city_data_df.set_value(index, \"temp_min\", hold_data[\"main\"][\"temp_min\"])\n",
    "            city_data_df.set_value(index, \"temp_max\", hold_data[\"main\"][\"temp_max\"])\n",
    "            city_data_df.set_value(index, \"humid\", hold_data[\"main\"][\"humidity\"])\n",
    "            city_data_df.set_value(index, \"wind_speed\", hold_data[\"wind\"][\"speed\"])\n",
    "            city_data_df.set_value(index, \"cloud\", hold_data[\"clouds\"][\"all\"])\n",
    "            city_data_df.set_value(index, \"url\", target_url)"
   ]
  },
  {
   "cell_type": "code",
   "execution_count": 10,
   "metadata": {},
   "outputs": [
    {
     "data": {
      "text/plain": [
       "304"
      ]
     },
     "execution_count": 10,
     "metadata": {},
     "output_type": "execute_result"
    }
   ],
   "source": [
    "len(city_data_df[city_data_df['found_city'] != ''])"
   ]
  },
  {
   "cell_type": "code",
   "execution_count": 11,
   "metadata": {
    "collapsed": true
   },
   "outputs": [],
   "source": [
    "# Between 0 and -45 degrees latitude\n",
    "while len(city_data_df[city_data_df['found_city'] != '']) < 400:\n",
    "    test_cities_data_df = city_data_lbt045_df.sample(125)\n",
    "    time.sleep(15)\n",
    "    for index, row in test_cities_data_df.iterrows():\n",
    "        target_url = url + row['City'] + ',' + row['Country'] + '&APPID=' + api_key + '&units=' + units\n",
    "        try:\n",
    "            r = req.get(target_url)\n",
    "            r.raise_for_status()\n",
    "        except HTTPError:\n",
    "            city_does_not_exist.append(r.url)\n",
    "        else:\n",
    "            hold_data = req.get(target_url).json()\n",
    "            city_data_df.set_value(index, \"found_city\", row['City'])\n",
    "            city_data_df.set_value(index, \"temp_min\", hold_data[\"main\"][\"temp_min\"])\n",
    "            city_data_df.set_value(index, \"temp_max\", hold_data[\"main\"][\"temp_max\"])\n",
    "            city_data_df.set_value(index, \"humid\", hold_data[\"main\"][\"humidity\"])\n",
    "            city_data_df.set_value(index, \"wind_speed\", hold_data[\"wind\"][\"speed\"])\n",
    "            city_data_df.set_value(index, \"cloud\", hold_data[\"clouds\"][\"all\"])\n",
    "            city_data_df.set_value(index, \"url\", target_url)"
   ]
  },
  {
   "cell_type": "code",
   "execution_count": 12,
   "metadata": {},
   "outputs": [
    {
     "data": {
      "text/plain": [
       "413"
      ]
     },
     "execution_count": 12,
     "metadata": {},
     "output_type": "execute_result"
    }
   ],
   "source": [
    "len(city_data_df[city_data_df['found_city'] != ''])"
   ]
  },
  {
   "cell_type": "code",
   "execution_count": 13,
   "metadata": {},
   "outputs": [],
   "source": [
    "# Less than -45 degrees latitudes\n",
    "while len(city_data_df[city_data_df['found_city'] != '']) < 500:\n",
    "    test_cities_data_df = city_data_lower45_df.sample(200)\n",
    "    time.sleep(15)\n",
    "    for index, row in test_cities_data_df.iterrows():\n",
    "        target_url = url + row['City'] + ',' + row['Country'] + '&APPID=' + api_key + '&units=' + units\n",
    "        try:\n",
    "            r = req.get(target_url)\n",
    "            r.raise_for_status()\n",
    "        except HTTPError:\n",
    "            city_does_not_exist.append(r.url)\n",
    "        else:\n",
    "            hold_data = req.get(target_url).json()\n",
    "            city_data_df.set_value(index, \"found_city\", row['City'])\n",
    "            city_data_df.set_value(index, \"temp_min\", hold_data[\"main\"][\"temp_min\"])\n",
    "            city_data_df.set_value(index, \"temp_max\", hold_data[\"main\"][\"temp_max\"])\n",
    "            city_data_df.set_value(index, \"humid\", hold_data[\"main\"][\"humidity\"])\n",
    "            city_data_df.set_value(index, \"wind_speed\", hold_data[\"wind\"][\"speed\"])\n",
    "            city_data_df.set_value(index, \"cloud\", hold_data[\"clouds\"][\"all\"])\n",
    "            city_data_df.set_value(index, \"url\", target_url)"
   ]
  },
  {
   "cell_type": "code",
   "execution_count": 14,
   "metadata": {
    "collapsed": true
   },
   "outputs": [],
   "source": [
    "city_data_df[city_data_df['found_city'] != ''].to_csv('Weather_API_output.csv')"
   ]
  },
  {
   "cell_type": "code",
   "execution_count": 15,
   "metadata": {},
   "outputs": [
    {
     "data": {
      "text/plain": [
       "519"
      ]
     },
     "execution_count": 15,
     "metadata": {},
     "output_type": "execute_result"
    }
   ],
   "source": [
    "plot_data_df = city_data_df[city_data_df['found_city'] != '']\n",
    "len(plot_data_df)"
   ]
  },
  {
   "cell_type": "code",
   "execution_count": 16,
   "metadata": {},
   "outputs": [
    {
     "name": "stderr",
     "output_type": "stream",
     "text": [
      "/Users/jeffmoore/anaconda3/lib/python3.6/site-packages/ipykernel_launcher.py:4: SettingWithCopyWarning: \n",
      "A value is trying to be set on a copy of a slice from a DataFrame.\n",
      "Try using .loc[row_indexer,col_indexer] = value instead\n",
      "\n",
      "See the caveats in the documentation: http://pandas.pydata.org/pandas-docs/stable/indexing.html#indexing-view-versus-copy\n",
      "  after removing the cwd from sys.path.\n"
     ]
    },
    {
     "data": {
      "text/html": [
       "<div>\n",
       "<style>\n",
       "    .dataframe thead tr:only-child th {\n",
       "        text-align: right;\n",
       "    }\n",
       "\n",
       "    .dataframe thead th {\n",
       "        text-align: left;\n",
       "    }\n",
       "\n",
       "    .dataframe tbody tr th {\n",
       "        vertical-align: top;\n",
       "    }\n",
       "</style>\n",
       "<table border=\"1\" class=\"dataframe\">\n",
       "  <thead>\n",
       "    <tr style=\"text-align: right;\">\n",
       "      <th></th>\n",
       "      <th>Country</th>\n",
       "      <th>City</th>\n",
       "      <th>Latitude</th>\n",
       "      <th>temp_min</th>\n",
       "      <th>temp_max</th>\n",
       "      <th>humid</th>\n",
       "      <th>wind_speed</th>\n",
       "      <th>cloud</th>\n",
       "      <th>found_city</th>\n",
       "      <th>url</th>\n",
       "      <th>lat_cat</th>\n",
       "    </tr>\n",
       "  </thead>\n",
       "  <tbody>\n",
       "    <tr>\n",
       "      <th>61107</th>\n",
       "      <td>af</td>\n",
       "      <td>qal`ah-ye sang-e takht</td>\n",
       "      <td>34.259067</td>\n",
       "      <td>18.7</td>\n",
       "      <td>18.7</td>\n",
       "      <td>76</td>\n",
       "      <td>2.04</td>\n",
       "      <td>64</td>\n",
       "      <td>qal`ah-ye sang-e takht</td>\n",
       "      <td>http://api.openweathermap.org/data/2.5/weather...</td>\n",
       "      <td>20Above</td>\n",
       "    </tr>\n",
       "    <tr>\n",
       "      <th>86964</th>\n",
       "      <td>af</td>\n",
       "      <td>wurjani</td>\n",
       "      <td>32.428812</td>\n",
       "      <td>25.77</td>\n",
       "      <td>25.77</td>\n",
       "      <td>74</td>\n",
       "      <td>2.04</td>\n",
       "      <td>0</td>\n",
       "      <td>wurjani</td>\n",
       "      <td>http://api.openweathermap.org/data/2.5/weather...</td>\n",
       "      <td>20Above</td>\n",
       "    </tr>\n",
       "    <tr>\n",
       "      <th>127447</th>\n",
       "      <td>ar</td>\n",
       "      <td>aguada grande</td>\n",
       "      <td>-47.389004</td>\n",
       "      <td>85.98</td>\n",
       "      <td>85.98</td>\n",
       "      <td>61</td>\n",
       "      <td>4.38</td>\n",
       "      <td>24</td>\n",
       "      <td>aguada grande</td>\n",
       "      <td>http://api.openweathermap.org/data/2.5/weather...</td>\n",
       "      <td>40Below</td>\n",
       "    </tr>\n",
       "    <tr>\n",
       "      <th>127650</th>\n",
       "      <td>ar</td>\n",
       "      <td>alto rio senguer</td>\n",
       "      <td>-45.041049</td>\n",
       "      <td>50.43</td>\n",
       "      <td>50.43</td>\n",
       "      <td>40</td>\n",
       "      <td>26.75</td>\n",
       "      <td>0</td>\n",
       "      <td>alto rio senguer</td>\n",
       "      <td>http://api.openweathermap.org/data/2.5/weather...</td>\n",
       "      <td>40Below</td>\n",
       "    </tr>\n",
       "    <tr>\n",
       "      <th>127772</th>\n",
       "      <td>ar</td>\n",
       "      <td>antonio pini</td>\n",
       "      <td>-29.075481</td>\n",
       "      <td>95.16</td>\n",
       "      <td>95.16</td>\n",
       "      <td>66</td>\n",
       "      <td>8.41</td>\n",
       "      <td>0</td>\n",
       "      <td>antonio pini</td>\n",
       "      <td>http://api.openweathermap.org/data/2.5/weather...</td>\n",
       "      <td>20Below</td>\n",
       "    </tr>\n",
       "  </tbody>\n",
       "</table>\n",
       "</div>"
      ],
      "text/plain": [
       "       Country                    City   Latitude temp_min temp_max humid  \\\n",
       "61107       af  qal`ah-ye sang-e takht  34.259067     18.7     18.7    76   \n",
       "86964       af                 wurjani  32.428812    25.77    25.77    74   \n",
       "127447      ar           aguada grande -47.389004    85.98    85.98    61   \n",
       "127650      ar        alto rio senguer -45.041049    50.43    50.43    40   \n",
       "127772      ar            antonio pini -29.075481    95.16    95.16    66   \n",
       "\n",
       "       wind_speed cloud              found_city  \\\n",
       "61107        2.04    64  qal`ah-ye sang-e takht   \n",
       "86964        2.04     0                 wurjani   \n",
       "127447       4.38    24           aguada grande   \n",
       "127650      26.75     0        alto rio senguer   \n",
       "127772       8.41     0            antonio pini   \n",
       "\n",
       "                                                      url  lat_cat  \n",
       "61107   http://api.openweathermap.org/data/2.5/weather...  20Above  \n",
       "86964   http://api.openweathermap.org/data/2.5/weather...  20Above  \n",
       "127447  http://api.openweathermap.org/data/2.5/weather...  40Below  \n",
       "127650  http://api.openweathermap.org/data/2.5/weather...  40Below  \n",
       "127772  http://api.openweathermap.org/data/2.5/weather...  20Below  "
      ]
     },
     "execution_count": 16,
     "metadata": {},
     "output_type": "execute_result"
    }
   ],
   "source": [
    "# Creating bins to segment the data and to plot the averages vs. latitude\n",
    "lat_bins = [-60,-40,-20,0,20,40,60]\n",
    "group_names = ['40Below', '20Below', '0Below', '0Above', '20Above', '40Above']\n",
    "plot_data_df['lat_cat'] = pd.cut(plot_data_df['Latitude'], bins=lat_bins, labels=group_names)\n",
    "plot_data_df.head()"
   ]
  },
  {
   "cell_type": "markdown",
   "metadata": {},
   "source": [
    "# Plotting the data\n",
    "***"
   ]
  },
  {
   "cell_type": "code",
   "execution_count": 17,
   "metadata": {},
   "outputs": [
    {
     "data": {
      "image/png": "[encoded data removed]",
      "text/plain": [
       "<matplotlib.figure.Figure at 0x1a3736c438>"
      ]
     },
     "metadata": {},
     "output_type": "display_data"
    }
   ],
   "source": [
    "# Plot of temperature vs. Latitude\n",
    "x = plot_data_df['Latitude']\n",
    "y = plot_data_df['temp_max']\n",
    "plt.plot(x, y, marker='+', color='blue', markersize=5, linewidth=.1, linestyle='None')\n",
    "plt.grid(True, color='gray', linestyle=':', linewidth=1)\n",
    "plt.ylabel(\"Temperature\", size=10)\n",
    "plt.xlabel(\"Latitude\", size=10)\n",
    "plt.title('Temperature vs. Latitude', size=17)\n",
    "plt.show()"
   ]
  },
  {
   "cell_type": "code",
   "execution_count": 18,
   "metadata": {},
   "outputs": [
    {
     "data": {
      "text/plain": [
       "Country         object\n",
       "City            object\n",
       "Latitude       float64\n",
       "temp_min        object\n",
       "temp_max        object\n",
       "humid           object\n",
       "wind_speed      object\n",
       "cloud           object\n",
       "found_city      object\n",
       "url             object\n",
       "lat_cat       category\n",
       "dtype: object"
      ]
     },
     "execution_count": 18,
     "metadata": {},
     "output_type": "execute_result"
    }
   ],
   "source": [
    "# floats and strings are tough to work with. Need to change those to integers\n",
    "plot_data_df.dtypes"
   ]
  },
  {
   "cell_type": "code",
   "execution_count": 19,
   "metadata": {},
   "outputs": [
    {
     "data": {
      "text/plain": [
       "Country         object\n",
       "City            object\n",
       "Latitude         int64\n",
       "temp_min        object\n",
       "temp_max         int64\n",
       "humid           object\n",
       "wind_speed       int64\n",
       "cloud           object\n",
       "found_city      object\n",
       "url             object\n",
       "lat_cat       category\n",
       "dtype: object"
      ]
     },
     "execution_count": 19,
     "metadata": {},
     "output_type": "execute_result"
    }
   ],
   "source": [
    "# Changing the columns to be numeric so that we can do some basic stats\n",
    "plot_data_df = plot_data_df.astype({'Latitude':int})\n",
    "plot_data_df = plot_data_df.astype({'temp_max':int})\n",
    "plot_data_df = plot_data_df.astype({'wind_speed':int})\n",
    "plot_data_df.dtypes"
   ]
  },
  {
   "cell_type": "code",
   "execution_count": 20,
   "metadata": {},
   "outputs": [
    {
     "data": {
      "image/png": "[encoded data removed]",
      "text/plain": [
       "<matplotlib.figure.Figure at 0x1a379459b0>"
      ]
     },
     "metadata": {},
     "output_type": "display_data"
    }
   ],
   "source": [
    "# Replotting the latitude vs. temperature plot and adding a regression line that shows the relationship between the \n",
    "# variables.  Notice that the southern hempishere summer is happening now while the northern hemisphere is happening\n",
    "# now\n",
    "x = plot_data_df['Latitude']\n",
    "y = plot_data_df['temp_max']\n",
    "slope, intercept, r_value, p_value, std_err = stats.linregress(x, y)\n",
    "plt.plot(x, intercept + slope*x, 'r', label='fitted line')\n",
    "plt.plot(x, y, marker='+', color='blue', markersize=5, linewidth=.1, linestyle='None', label='raw data')\n",
    "plt.grid(True, color='gray', linestyle=':', linewidth=1)\n",
    "plt.ylabel(\"Temperature\", size=10)\n",
    "plt.xlabel(\"Latitude\", size=10)\n",
    "plt.title('Temperature vs. Latitude', size=17)\n",
    "plt.show()"
   ]
  },
  {
   "cell_type": "code",
   "execution_count": 21,
   "metadata": {},
   "outputs": [
    {
     "name": "stdout",
     "output_type": "stream",
     "text": [
      "The regression line equation is: y= -0.261642622064 *x +  55.3002805557\n"
     ]
    }
   ],
   "source": [
    "# Printing the line equation\n",
    "print(\"The regression line equation is:\", \"y=\",slope,\"*x + \", intercept)"
   ]
  },
  {
   "cell_type": "code",
   "execution_count": 22,
   "metadata": {},
   "outputs": [
    {
     "name": "stdout",
     "output_type": "stream",
     "text": [
      "p-value: 2.44362584843e-34 and std error: 0.0198748764211\n"
     ]
    }
   ],
   "source": [
    "# Print the p-value\n",
    "print(\"p-value:\", p_value, \"and\", \"std error:\", std_err)"
   ]
  },
  {
   "cell_type": "code",
   "execution_count": 23,
   "metadata": {},
   "outputs": [
    {
     "name": "stdout",
     "output_type": "stream",
     "text": [
      "r-squared: 0.251054402151\n"
     ]
    }
   ],
   "source": [
    "# Showing the correlation between temp and latitude\n",
    "print(\"r-squared:\", r_value**2)"
   ]
  },
  {
   "cell_type": "code",
   "execution_count": 24,
   "metadata": {},
   "outputs": [
    {
     "data": {
      "text/html": [
       "<div>\n",
       "<style>\n",
       "    .dataframe thead tr:only-child th {\n",
       "        text-align: right;\n",
       "    }\n",
       "\n",
       "    .dataframe thead th {\n",
       "        text-align: left;\n",
       "    }\n",
       "\n",
       "    .dataframe tbody tr th {\n",
       "        vertical-align: top;\n",
       "    }\n",
       "</style>\n",
       "<table border=\"1\" class=\"dataframe\">\n",
       "  <thead>\n",
       "    <tr style=\"text-align: right;\">\n",
       "      <th></th>\n",
       "      <th>Country</th>\n",
       "      <th>City</th>\n",
       "      <th>Latitude</th>\n",
       "      <th>temp_min</th>\n",
       "      <th>temp_max</th>\n",
       "      <th>humid</th>\n",
       "      <th>wind_speed</th>\n",
       "      <th>cloud</th>\n",
       "      <th>found_city</th>\n",
       "      <th>url</th>\n",
       "      <th>lat_cat</th>\n",
       "    </tr>\n",
       "  </thead>\n",
       "  <tbody>\n",
       "    <tr>\n",
       "      <th>61107</th>\n",
       "      <td>af</td>\n",
       "      <td>qal`ah-ye sang-e takht</td>\n",
       "      <td>34</td>\n",
       "      <td>18.7</td>\n",
       "      <td>18</td>\n",
       "      <td>76</td>\n",
       "      <td>2</td>\n",
       "      <td>64</td>\n",
       "      <td>qal`ah-ye sang-e takht</td>\n",
       "      <td>http://api.openweathermap.org/data/2.5/weather...</td>\n",
       "      <td>20Above</td>\n",
       "    </tr>\n",
       "    <tr>\n",
       "      <th>86964</th>\n",
       "      <td>af</td>\n",
       "      <td>wurjani</td>\n",
       "      <td>32</td>\n",
       "      <td>25.77</td>\n",
       "      <td>25</td>\n",
       "      <td>74</td>\n",
       "      <td>2</td>\n",
       "      <td>0</td>\n",
       "      <td>wurjani</td>\n",
       "      <td>http://api.openweathermap.org/data/2.5/weather...</td>\n",
       "      <td>20Above</td>\n",
       "    </tr>\n",
       "    <tr>\n",
       "      <th>127447</th>\n",
       "      <td>ar</td>\n",
       "      <td>aguada grande</td>\n",
       "      <td>-47</td>\n",
       "      <td>85.98</td>\n",
       "      <td>85</td>\n",
       "      <td>61</td>\n",
       "      <td>4</td>\n",
       "      <td>24</td>\n",
       "      <td>aguada grande</td>\n",
       "      <td>http://api.openweathermap.org/data/2.5/weather...</td>\n",
       "      <td>40Below</td>\n",
       "    </tr>\n",
       "    <tr>\n",
       "      <th>127650</th>\n",
       "      <td>ar</td>\n",
       "      <td>alto rio senguer</td>\n",
       "      <td>-45</td>\n",
       "      <td>50.43</td>\n",
       "      <td>50</td>\n",
       "      <td>40</td>\n",
       "      <td>26</td>\n",
       "      <td>0</td>\n",
       "      <td>alto rio senguer</td>\n",
       "      <td>http://api.openweathermap.org/data/2.5/weather...</td>\n",
       "      <td>40Below</td>\n",
       "    </tr>\n",
       "    <tr>\n",
       "      <th>127772</th>\n",
       "      <td>ar</td>\n",
       "      <td>antonio pini</td>\n",
       "      <td>-29</td>\n",
       "      <td>95.16</td>\n",
       "      <td>95</td>\n",
       "      <td>66</td>\n",
       "      <td>8</td>\n",
       "      <td>0</td>\n",
       "      <td>antonio pini</td>\n",
       "      <td>http://api.openweathermap.org/data/2.5/weather...</td>\n",
       "      <td>20Below</td>\n",
       "    </tr>\n",
       "  </tbody>\n",
       "</table>\n",
       "</div>"
      ],
      "text/plain": [
       "       Country                    City  Latitude temp_min  temp_max humid  \\\n",
       "61107       af  qal`ah-ye sang-e takht        34     18.7        18    76   \n",
       "86964       af                 wurjani        32    25.77        25    74   \n",
       "127447      ar           aguada grande       -47    85.98        85    61   \n",
       "127650      ar        alto rio senguer       -45    50.43        50    40   \n",
       "127772      ar            antonio pini       -29    95.16        95    66   \n",
       "\n",
       "        wind_speed cloud              found_city  \\\n",
       "61107            2    64  qal`ah-ye sang-e takht   \n",
       "86964            2     0                 wurjani   \n",
       "127447           4    24           aguada grande   \n",
       "127650          26     0        alto rio senguer   \n",
       "127772           8     0            antonio pini   \n",
       "\n",
       "                                                      url  lat_cat  \n",
       "61107   http://api.openweathermap.org/data/2.5/weather...  20Above  \n",
       "86964   http://api.openweathermap.org/data/2.5/weather...  20Above  \n",
       "127447  http://api.openweathermap.org/data/2.5/weather...  40Below  \n",
       "127650  http://api.openweathermap.org/data/2.5/weather...  40Below  \n",
       "127772  http://api.openweathermap.org/data/2.5/weather...  20Below  "
      ]
     },
     "execution_count": 24,
     "metadata": {},
     "output_type": "execute_result"
    }
   ],
   "source": [
    "group_analysis_df = plot_data_df\n",
    "group_analysis_df.head()"
   ]
  },
  {
   "cell_type": "code",
   "execution_count": 25,
   "metadata": {},
   "outputs": [
    {
     "data": {
      "text/html": [
       "<div>\n",
       "<style>\n",
       "    .dataframe thead tr:only-child th {\n",
       "        text-align: right;\n",
       "    }\n",
       "\n",
       "    .dataframe thead th {\n",
       "        text-align: left;\n",
       "    }\n",
       "\n",
       "    .dataframe tbody tr th {\n",
       "        vertical-align: top;\n",
       "    }\n",
       "</style>\n",
       "<table border=\"1\" class=\"dataframe\">\n",
       "  <thead>\n",
       "    <tr style=\"text-align: right;\">\n",
       "      <th></th>\n",
       "      <th>temp_max</th>\n",
       "    </tr>\n",
       "    <tr>\n",
       "      <th>lat_cat</th>\n",
       "      <th></th>\n",
       "    </tr>\n",
       "  </thead>\n",
       "  <tbody>\n",
       "    <tr>\n",
       "      <th>40Below</th>\n",
       "      <td>54.149533</td>\n",
       "    </tr>\n",
       "    <tr>\n",
       "      <th>20Below</th>\n",
       "      <td>73.344828</td>\n",
       "    </tr>\n",
       "    <tr>\n",
       "      <th>0Below</th>\n",
       "      <td>72.797468</td>\n",
       "    </tr>\n",
       "    <tr>\n",
       "      <th>0Above</th>\n",
       "      <td>75.433962</td>\n",
       "    </tr>\n",
       "    <tr>\n",
       "      <th>20Above</th>\n",
       "      <td>42.739130</td>\n",
       "    </tr>\n",
       "    <tr>\n",
       "      <th>40Above</th>\n",
       "      <td>37.045455</td>\n",
       "    </tr>\n",
       "  </tbody>\n",
       "</table>\n",
       "</div>"
      ],
      "text/plain": [
       "          temp_max\n",
       "lat_cat           \n",
       "40Below  54.149533\n",
       "20Below  73.344828\n",
       "0Below   72.797468\n",
       "0Above   75.433962\n",
       "20Above  42.739130\n",
       "40Above  37.045455"
      ]
     },
     "execution_count": 25,
     "metadata": {},
     "output_type": "execute_result"
    }
   ],
   "source": [
    "group_analysis_df = group_analysis_df[['lat_cat', 'temp_max']]\n",
    "group_analysis_df = pd.DataFrame(group_analysis_df)\n",
    "group_analysis_df = group_analysis_df.astype({'temp_max':int})\n",
    "plot_group_means = group_analysis_df.groupby('lat_cat').mean()\n",
    "plot_group_means"
   ]
  },
  {
   "cell_type": "code",
   "execution_count": 26,
   "metadata": {},
   "outputs": [
    {
     "data": {
      "image/png": "[encoded data removed]",
      "text/plain": [
       "<matplotlib.figure.Figure at 0x1a2ace9860>"
      ]
     },
     "metadata": {},
     "output_type": "display_data"
    }
   ],
   "source": [
    "plot_group_means.plot(subplots=False, marker='+', color='blue', markersize=5, linewidth=1, linestyle='--', label='data')\n",
    "plt.show()"
   ]
  },
  {
   "cell_type": "code",
   "execution_count": 27,
   "metadata": {},
   "outputs": [
    {
     "data": {
      "image/png": "[encoded data removed]",
      "text/plain": [
       "<matplotlib.figure.Figure at 0x1a34d78d30>"
      ]
     },
     "metadata": {},
     "output_type": "display_data"
    }
   ],
   "source": [
    "x = plot_data_df['Latitude']\n",
    "y = plot_data_df['humid']\n",
    "plt.plot(x, y, marker='+', color='blue', markersize=5, linewidth=.1, linestyle='None')\n",
    "plt.grid(True, color='gray', linestyle=':', linewidth=1)\n",
    "plt.ylabel(\"Humidity\", size=10)\n",
    "plt.xlabel(\"Latitude\", size=10)\n",
    "plt.title('Latitude vs. Humidity', size=17)\n",
    "plt.show()"
   ]
  },
  {
   "cell_type": "code",
   "execution_count": 28,
   "metadata": {},
   "outputs": [
    {
     "data": {
      "image/png": "[encoded data removed]",
      "text/plain": [
       "<matplotlib.figure.Figure at 0x1a1de73208>"
      ]
     },
     "metadata": {},
     "output_type": "display_data"
    }
   ],
   "source": [
    "x = plot_data_df['Latitude']\n",
    "y = plot_data_df['cloud']\n",
    "plt.plot(x, y, marker='+', color='blue', markersize=5, linewidth=.1, linestyle='None')\n",
    "plt.grid(True, color='gray', linestyle=':', linewidth=1)\n",
    "plt.ylabel(\"Cloudiness\", size=10)\n",
    "plt.xlabel(\"Latitude\", size=10)\n",
    "plt.title('Latitude vs. Cloudiness', size=17)\n",
    "plt.show()"
   ]
  },
  {
   "cell_type": "code",
   "execution_count": 29,
   "metadata": {},
   "outputs": [
    {
     "data": {
      "image/png": "[encoded data removed]",
      "text/plain": [
       "<matplotlib.figure.Figure at 0x1a36bd2828>"
      ]
     },
     "metadata": {},
     "output_type": "display_data"
    }
   ],
   "source": [
    "x = plot_data_df['Latitude']\n",
    "y = plot_data_df['wind_speed']\n",
    "slope, intercept, r_value, p_value, std_err = stats.linregress(x, y)\n",
    "plt.plot(x, intercept + slope*x, 'r', label='fitted line')\n",
    "plt.plot(x, y, marker='+', color='blue', markersize=5, linewidth=.1, linestyle='None')\n",
    "plt.grid(True, color='gray', linestyle=':', linewidth=1)\n",
    "plt.ylabel(\"Wind Speed\", size=10)\n",
    "plt.xlabel(\"Latitude\", size=10)\n",
    "plt.title('Latitude vs. Wind Speed', size=17)\n",
    "plt.show()"
   ]
  },
  {
   "cell_type": "code",
   "execution_count": 30,
   "metadata": {},
   "outputs": [
    {
     "name": "stdout",
     "output_type": "stream",
     "text": [
      "The regression line equation is: y= -0.00555915470998 *x +  6.48271720582\n"
     ]
    }
   ],
   "source": [
    "print(\"The regression line equation is:\", \"y=\",slope,\"*x + \", intercept)"
   ]
  },
  {
   "cell_type": "code",
   "execution_count": 31,
   "metadata": {},
   "outputs": [
    {
     "name": "stdout",
     "output_type": "stream",
     "text": [
      "p-value: 0.453849407269 and std error: 0.00741637207843\n"
     ]
    }
   ],
   "source": [
    "# Print the p-value\n",
    "print(\"p-value:\", p_value, \"and\", \"std error:\", std_err)"
   ]
  },
  {
   "cell_type": "code",
   "execution_count": 32,
   "metadata": {},
   "outputs": [
    {
     "name": "stdout",
     "output_type": "stream",
     "text": [
      "r-squared: 0.00108560598462\n"
     ]
    }
   ],
   "source": [
    "print(\"r-squared:\", r_value**2)"
   ]
  },
  {
   "cell_type": "markdown",
   "metadata": {},
   "source": [
    "# Observations\n",
    "***"
   ]
  },
  {
   "cell_type": "markdown",
   "metadata": {
    "collapsed": true
   },
   "source": [
    "A bell shape would be expected if the average temps were plotted against latitude.  In other words temps would be extremely high or low on the outer latitudes (signifying summer and winter...it's winter in the northern hemisphere while it's summer in the souther hemisphere).  Moving closer to the equator would mean that temps soar - creating the peak of the bell curve.  That's effectively what we see in the plot - grouped latitudes vs. avg temps."
   ]
  },
  {
   "cell_type": "markdown",
   "metadata": {},
   "source": [
    "Plotting a regression line helps show visually the inverse relationship between the northern and southern hemispheres. The negative slope suggests that moving from the south to the north means moving from hot or warmer weather to colder temperatures."
   ]
  },
  {
   "cell_type": "markdown",
   "metadata": {},
   "source": [
    "The temperature vs. latitude data was most convincing in explaining the relationship between temperature and latitude. Attempts to get historical data were not successful. Trade winds might help in telling some of the story as well. I could not see any obvious trends in the data but research suggests that are certain times of the year the winds pick up dramatically between -20 to 20 degress latitude."
   ]
  },
  {
   "cell_type": "code",
   "execution_count": null,
   "metadata": {
    "collapsed": true
   },
   "outputs": [],
   "source": []
  }
 ],
 "metadata": {
  "kernelspec": {
   "display_name": "Python 3",
   "language": "python",
   "name": "python3"
  },
  "language_info": {
   "codemirror_mode": {
    "name": "ipython",
    "version": 3
   },
   "file_extension": ".py",
   "mimetype": "text/x-python",
   "name": "python",
   "nbconvert_exporter": "python",
   "pygments_lexer": "ipython3",
   "version": "3.6.3"
  }
 },
 "nbformat": 4,
 "nbformat_minor": 2
}
